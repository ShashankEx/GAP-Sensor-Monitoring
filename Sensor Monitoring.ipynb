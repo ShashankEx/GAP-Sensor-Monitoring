{
 "cells": [
  {
   "cell_type": "code",
   "execution_count": 1,
   "id": "0934abfc-5c46-4f4b-a34d-cd403f21c792",
   "metadata": {},
   "outputs": [],
   "source": [
    "import json\n",
    "import requests\n",
    "import pandas as pd\n",
    "import matplotlib.pyplot as plt\n",
    "import numpy as np\n",
    "import seaborn as sns\n",
    "import ruptures as rpt"
   ]
  },
  {
   "cell_type": "code",
   "execution_count": 2,
   "id": "0008bee6-e5b4-44ba-945f-af133b3474f0",
   "metadata": {},
   "outputs": [],
   "source": [
    "# Set display options to show more rows and columns\n",
    "pd.set_option('display.max_rows', None)  # To show all rows\n",
    "pd.set_option('display.max_columns', None)  # To show all columns\n",
    "pd.set_option('display.width', None)  # To adjust the display width"
   ]
  }
 ],
 "metadata": {
  "kernelspec": {
   "display_name": "Python 3 (ipykernel)",
   "language": "python",
   "name": "python3"
  },
  "language_info": {
   "codemirror_mode": {
    "name": "ipython",
    "version": 3
   },
   "file_extension": ".py",
   "mimetype": "text/x-python",
   "name": "python",
   "nbconvert_exporter": "python",
   "pygments_lexer": "ipython3",
   "version": "3.10.12"
  }
 },
 "nbformat": 4,
 "nbformat_minor": 5
}
